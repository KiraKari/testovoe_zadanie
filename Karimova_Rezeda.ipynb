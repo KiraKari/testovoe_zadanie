{
 "cells": [
  {
   "cell_type": "markdown",
   "id": "be45634c",
   "metadata": {},
   "source": [
    "# SQL"
   ]
  },
  {
   "cell_type": "markdown",
   "id": "17c8d9d5",
   "metadata": {},
   "source": [
    "## 1 задание"
   ]
  },
  {
   "cell_type": "raw",
   "id": "86b5354f",
   "metadata": {},
   "source": [
    "SELECT name, count(trip) as count\n",
    "FROM Pass_in_trip INNER JOIN Passenger\n",
    "    ON Pass_in_trip.passenger = Passenger.id\n",
    "GROUP BY passenger\n",
    "HAVING count > 0\n",
    "ORDER BY count DESC, name;"
   ]
  },
  {
   "cell_type": "markdown",
   "id": "b7928bbe",
   "metadata": {},
   "source": [
    "## 2 задание"
   ]
  },
  {
   "cell_type": "raw",
   "id": "921e6353",
   "metadata": {},
   "source": [
    "SELECT DISTINCT TIMEDIFF( \n",
    "                (SELECT end_pair FROM Timepair WHERE id=4),\n",
    "                (SELECT start_pair FROM Timepair WHERE id=2)\n",
    "                ) AS time\n",
    "FROM Timepair;"
   ]
  },
  {
   "cell_type": "markdown",
   "id": "005988df",
   "metadata": {},
   "source": [
    "## 3 задание"
   ]
  },
  {
   "cell_type": "raw",
   "id": "0787e1e6",
   "metadata": {},
   "source": [
    "SELECT Rooms.*\n",
    "FROM Rooms INNER JOIN Reservations\n",
    "    ON Rooms.id=Reservations.room_id\n",
    "WHERE (12 BETWEEN WEEK(start_date, 1) AND  WEEK(end_date, 1)) \n",
    "       AND YEAR(start_date)=2020;"
   ]
  },
  {
   "cell_type": "markdown",
   "id": "ad8b903d",
   "metadata": {},
   "source": [
    "## 4 задание "
   ]
  },
  {
   "cell_type": "raw",
   "id": "24bdbbd5",
   "metadata": {},
   "source": [
    "SELECT classroom\n",
    "FROM Schedule\n",
    "GROUP BY classroom\n",
    "HAVING COUNT(classroom) = (SELECT COUNT(classroom) AS count\n",
    "                           FROM Schedule\n",
    "                           GROUP BY classroom\n",
    "                           ORDER BY count DESC\n",
    "                           LIMIT 1);"
   ]
  },
  {
   "cell_type": "markdown",
   "id": "a1932787",
   "metadata": {},
   "source": [
    "## 5 задание"
   ]
  },
  {
   "cell_type": "raw",
   "id": "95b7b71e",
   "metadata": {},
   "source": [
    "#не успела разобраться с оконными функциями, но разберусь"
   ]
  },
  {
   "cell_type": "markdown",
   "id": "f7f761f5",
   "metadata": {},
   "source": [
    "## 6 задание"
   ]
  },
  {
   "cell_type": "raw",
   "id": "50cc86de",
   "metadata": {},
   "source": []
  },
  {
   "cell_type": "markdown",
   "id": "f8f9b459",
   "metadata": {},
   "source": [
    "# Математика"
   ]
  },
  {
   "cell_type": "markdown",
   "id": "c3305f5d",
   "metadata": {},
   "source": [
    "## 1 задание"
   ]
  },
  {
   "cell_type": "raw",
   "id": "28a40e52",
   "metadata": {},
   "source": [
    "Можно по классическому определению вероятностей попробовать решить:\n",
    "Общее количество исходов при шести раундах: 14^6. Но как определить благоприятное количество исходов????"
   ]
  },
  {
   "cell_type": "markdown",
   "id": "5ca62fbf",
   "metadata": {},
   "source": [
    "## 2 задание"
   ]
  },
  {
   "cell_type": "code",
   "execution_count": 1,
   "id": "3e5e65a2",
   "metadata": {},
   "outputs": [
    {
     "name": "stdout",
     "output_type": "stream",
     "text": [
      "[5.42; 10.58]\n"
     ]
    }
   ],
   "source": [
    "import numpy as np\n",
    "from scipy import stats\n",
    "\n",
    "p = 0.99\n",
    "mean = 8\n",
    "std = 4\n",
    "n = 16\n",
    "\n",
    "se = std/np.sqrt(n)\n",
    "alpha = (1-p)/2\n",
    "sigma = stats.norm().isf(alpha)\n",
    "сonfidence_interval = mean - sigma*se, mean + sigma*se\n",
    "print('[%.2f; %.2f]' % сonfidence_interval)"
   ]
  },
  {
   "cell_type": "markdown",
   "id": "bca1f58a",
   "metadata": {},
   "source": [
    "## 3 задание"
   ]
  },
  {
   "cell_type": "markdown",
   "id": "d6d3adb5",
   "metadata": {},
   "source": [
    "Так как результаты измерений представлены в шкале рангов, применяем непараметрические коэффициенты (Спирмена и Кендалла)\n"
   ]
  },
  {
   "cell_type": "code",
   "execution_count": 2,
   "id": "25aa9593",
   "metadata": {},
   "outputs": [
    {
     "data": {
      "text/html": [
       "<div>\n",
       "<style scoped>\n",
       "    .dataframe tbody tr th:only-of-type {\n",
       "        vertical-align: middle;\n",
       "    }\n",
       "\n",
       "    .dataframe tbody tr th {\n",
       "        vertical-align: top;\n",
       "    }\n",
       "\n",
       "    .dataframe thead th {\n",
       "        text-align: right;\n",
       "    }\n",
       "</style>\n",
       "<table border=\"1\" class=\"dataframe\">\n",
       "  <thead>\n",
       "    <tr style=\"text-align: right;\">\n",
       "      <th></th>\n",
       "      <th>male</th>\n",
       "      <th>female</th>\n",
       "    </tr>\n",
       "  </thead>\n",
       "  <tbody>\n",
       "    <tr>\n",
       "      <th>male</th>\n",
       "      <td>1.000000</td>\n",
       "      <td>-0.648886</td>\n",
       "    </tr>\n",
       "    <tr>\n",
       "      <th>female</th>\n",
       "      <td>-0.648886</td>\n",
       "      <td>1.000000</td>\n",
       "    </tr>\n",
       "  </tbody>\n",
       "</table>\n",
       "</div>"
      ],
      "text/plain": [
       "            male    female\n",
       "male    1.000000 -0.648886\n",
       "female -0.648886  1.000000"
      ]
     },
     "execution_count": 2,
     "metadata": {},
     "output_type": "execute_result"
    }
   ],
   "source": [
    "import pandas as pd\n",
    "\n",
    "df = pd.DataFrame({'male' : [7, 8, 8, 5, 7], 'female' : [10, 5, 3, 8, 10]})\n",
    "df.corr(method='spearman')"
   ]
  },
  {
   "cell_type": "code",
   "execution_count": 3,
   "id": "9018692e",
   "metadata": {},
   "outputs": [
    {
     "data": {
      "text/html": [
       "<div>\n",
       "<style scoped>\n",
       "    .dataframe tbody tr th:only-of-type {\n",
       "        vertical-align: middle;\n",
       "    }\n",
       "\n",
       "    .dataframe tbody tr th {\n",
       "        vertical-align: top;\n",
       "    }\n",
       "\n",
       "    .dataframe thead th {\n",
       "        text-align: right;\n",
       "    }\n",
       "</style>\n",
       "<table border=\"1\" class=\"dataframe\">\n",
       "  <thead>\n",
       "    <tr style=\"text-align: right;\">\n",
       "      <th></th>\n",
       "      <th>male</th>\n",
       "      <th>female</th>\n",
       "    </tr>\n",
       "  </thead>\n",
       "  <tbody>\n",
       "    <tr>\n",
       "      <th>male</th>\n",
       "      <td>1.0</td>\n",
       "      <td>-0.6</td>\n",
       "    </tr>\n",
       "    <tr>\n",
       "      <th>female</th>\n",
       "      <td>-0.6</td>\n",
       "      <td>1.0</td>\n",
       "    </tr>\n",
       "  </tbody>\n",
       "</table>\n",
       "</div>"
      ],
      "text/plain": [
       "        male  female\n",
       "male     1.0    -0.6\n",
       "female  -0.6     1.0"
      ]
     },
     "execution_count": 3,
     "metadata": {},
     "output_type": "execute_result"
    }
   ],
   "source": [
    "df.corr(method='kendall')"
   ]
  },
  {
   "cell_type": "markdown",
   "id": "26fcd0c1",
   "metadata": {},
   "source": [
    "Связь между оценками качеств партнеров у мужчин и женщин средняя, обратная по направлению (умеренной тесноты). Вроде стоит проверить значимость коэффициента ранговой корреляции, но в задании не задан доверительный интервал"
   ]
  },
  {
   "cell_type": "markdown",
   "id": "240f6432",
   "metadata": {},
   "source": [
    "# Программирование"
   ]
  },
  {
   "cell_type": "markdown",
   "id": "cbd37f18",
   "metadata": {},
   "source": [
    "## 1 задание"
   ]
  },
  {
   "cell_type": "markdown",
   "id": "f4313d87",
   "metadata": {},
   "source": [
    "Если рассматривать только пары индексов, то решение вроде простое:"
   ]
  },
  {
   "cell_type": "code",
   "execution_count": 4,
   "id": "e0abe022",
   "metadata": {},
   "outputs": [
    {
     "name": "stdout",
     "output_type": "stream",
     "text": [
      "[28  1 85 71 22]\n",
      "13\n",
      "[]\n"
     ]
    }
   ],
   "source": [
    "import random\n",
    "\n",
    "def is_sum_index_target(nums, target):\n",
    "    a = []\n",
    "    for i in range(len(nums)):\n",
    "        for j in range(i+1, len(nums)):\n",
    "            if nums[i] + nums[j] == target:\n",
    "                a.append([i, j])\n",
    "    return a\n",
    "\n",
    "temp = random.randint(1, 100)\n",
    "nums = np.array([random.randint(0, 100) for _ in range(temp)])\n",
    "print(nums)\n",
    "target = random.randint(0, 100)\n",
    "print(target)\n",
    "print(is_sum_index_target(nums, target))"
   ]
  },
  {
   "cell_type": "markdown",
   "id": "23abc27d",
   "metadata": {},
   "source": [
    "Если можно суммировать больше двух значений массива, то задача значительно усложняется\n",
    "#надо доделать"
   ]
  },
  {
   "cell_type": "markdown",
   "id": "2f71c5e9",
   "metadata": {},
   "source": [
    "## 2 задание"
   ]
  },
  {
   "cell_type": "markdown",
   "id": "f45505d3",
   "metadata": {},
   "source": [
    "Мое неоптимальное решение:"
   ]
  },
  {
   "cell_type": "code",
   "execution_count": 5,
   "id": "794249b1",
   "metadata": {},
   "outputs": [
    {
     "name": "stdout",
     "output_type": "stream",
     "text": [
      "[  4  93  60  54  20  70 100  37  68  22   9  45  33  45  96  65  96  64\n",
      "  92  82  28  39  88  10  91  70  28  69  52  91  26  85  24  30]\n",
      "2\n",
      "None\n"
     ]
    }
   ],
   "source": [
    "import random\n",
    "\n",
    "def is_sum_index_target(nums, target):\n",
    "    for i in range(len(nums)):\n",
    "        for j in range(i+1, len(nums)):\n",
    "            if nums[i] + nums[j] == target and i != j:\n",
    "                return [i, j]\n",
    "\n",
    "temp = random.randint(1, 100)\n",
    "nums = np.array([random.randint(0, 100) for _ in range(temp)])\n",
    "print(nums)\n",
    "target = random.randint(0, 100)\n",
    "print(target)\n",
    "print(is_sum_index_target(nums, target))"
   ]
  },
  {
   "cell_type": "markdown",
   "id": "339f70cf",
   "metadata": {},
   "source": [
    "Оптимальное нагулила и разобрала, но сама не написала:"
   ]
  },
  {
   "cell_type": "code",
   "execution_count": 6,
   "id": "8ca8004c",
   "metadata": {},
   "outputs": [
    {
     "name": "stdout",
     "output_type": "stream",
     "text": [
      "[  2  95  84  27  49  82  41  45 100  48  94  40  13  66   2  88  92  48\n",
      "  23  10  19  17  54  12  35  59  96  82  40  87  45  16  30  97  42  98\n",
      "  62  36  49  21  82   9  82  97  55   3  78  24 100  38  47   7  30]\n",
      "62\n",
      "[3, 24]\n"
     ]
    }
   ],
   "source": [
    "def twoSum(nums, target):\n",
    "    d = {}\n",
    "    for i in range(len(nums)):\n",
    "        d[nums[i]] = i\n",
    "    for i in range(len(nums)):\n",
    "        complement = target - nums[i]\n",
    "        if complement in d and d[complement] != i:\n",
    "            return [i, d[complement]]\n",
    "            \n",
    "temp = random.randint(1, 100)\n",
    "nums = np.array([random.randint(0, 100) for _ in range(temp)])\n",
    "print(nums)\n",
    "target = random.randint(0, 100)\n",
    "print(target)\n",
    "print(twoSum(nums, target))"
   ]
  },
  {
   "cell_type": "code",
   "execution_count": null,
   "id": "467ffb9f",
   "metadata": {},
   "outputs": [],
   "source": []
  }
 ],
 "metadata": {
  "kernelspec": {
   "display_name": "Python 3",
   "language": "python",
   "name": "python3"
  },
  "language_info": {
   "codemirror_mode": {
    "name": "ipython",
    "version": 3
   },
   "file_extension": ".py",
   "mimetype": "text/x-python",
   "name": "python",
   "nbconvert_exporter": "python",
   "pygments_lexer": "ipython3",
   "version": "3.8.8"
  }
 },
 "nbformat": 4,
 "nbformat_minor": 5
}

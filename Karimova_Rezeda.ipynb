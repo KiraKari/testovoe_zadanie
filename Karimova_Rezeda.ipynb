{
 "cells": [
  {
   "cell_type": "markdown",
   "id": "dcfe8bcd",
   "metadata": {},
   "source": [
    "# SQL"
   ]
  },
  {
   "cell_type": "markdown",
   "id": "514b05ee",
   "metadata": {},
   "source": [
    "## 1 задание"
   ]
  },
  {
   "cell_type": "raw",
   "id": "1aee6b9e",
   "metadata": {},
   "source": [
    "SELECT name, count(trip) as count\n",
    "FROM Pass_in_trip INNER JOIN Passenger\n",
    "    ON Pass_in_trip.passenger = Passenger.id\n",
    "GROUP BY passenger\n",
    "HAVING count > 0\n",
    "ORDER BY count DESC, name;"
   ]
  },
  {
   "cell_type": "markdown",
   "id": "368ec3d8",
   "metadata": {},
   "source": [
    "## 2 задание"
   ]
  },
  {
   "cell_type": "raw",
   "id": "fb5e67ce",
   "metadata": {},
   "source": [
    "SELECT DISTINCT TIMEDIFF( \n",
    "                (SELECT end_pair FROM Timepair WHERE id=4),\n",
    "                (SELECT start_pair FROM Timepair WHERE id=2)\n",
    "                ) AS time\n",
    "FROM Timepair;"
   ]
  },
  {
   "cell_type": "markdown",
   "id": "12baa325",
   "metadata": {},
   "source": [
    "## 3 задание"
   ]
  },
  {
   "cell_type": "raw",
   "id": "7b49b0c6",
   "metadata": {},
   "source": [
    "SELECT Rooms.*\n",
    "FROM Rooms INNER JOIN Reservations\n",
    "    ON Rooms.id=Reservations.room_id\n",
    "WHERE (12 BETWEEN WEEK(start_date, 1) AND  WEEK(end_date, 1)) \n",
    "       AND YEAR(start_date)=2020;"
   ]
  },
  {
   "cell_type": "markdown",
   "id": "fb7e5209",
   "metadata": {},
   "source": [
    "## 4 задание "
   ]
  },
  {
   "cell_type": "raw",
   "id": "5e345a8e",
   "metadata": {},
   "source": [
    "SELECT classroom\n",
    "FROM Schedule\n",
    "GROUP BY classroom\n",
    "HAVING COUNT(classroom) = (SELECT COUNT(classroom) AS count\n",
    "                           FROM Schedule\n",
    "                           GROUP BY classroom\n",
    "                           ORDER BY count DESC\n",
    "                           LIMIT 1);"
   ]
  },
  {
   "cell_type": "markdown",
   "id": "2a9659ff",
   "metadata": {},
   "source": [
    "## 5 задание"
   ]
  },
  {
   "cell_type": "raw",
   "id": "d85f408e",
   "metadata": {},
   "source": [
    "не успела разобраться с оконными функциями, но разберусь!\n",
    "Можете посоветовать хороший курс?"
   ]
  },
  {
   "cell_type": "markdown",
   "id": "ec5196c0",
   "metadata": {},
   "source": [
    "## 6 задание"
   ]
  },
  {
   "cell_type": "raw",
   "id": "bcef47e9",
   "metadata": {},
   "source": []
  },
  {
   "cell_type": "markdown",
   "id": "2d753faa",
   "metadata": {},
   "source": [
    "# Математика"
   ]
  },
  {
   "cell_type": "markdown",
   "id": "c2fd0ab2",
   "metadata": {},
   "source": [
    "## 1 задание"
   ]
  },
  {
   "cell_type": "raw",
   "id": "3e02efbb",
   "metadata": {},
   "source": [
    "Можно по классическому определению вероятностей попробовать решить:\n",
    "Общее количество исходов при шести раундах: 14^6. Но как определить благоприятное количество исходов????"
   ]
  },
  {
   "cell_type": "markdown",
   "id": "0ee73aba",
   "metadata": {},
   "source": [
    "## 2 задание"
   ]
  },
  {
   "cell_type": "code",
   "execution_count": 1,
   "id": "e4735a25",
   "metadata": {},
   "outputs": [
    {
     "name": "stdout",
     "output_type": "stream",
     "text": [
      "[5.42; 10.58]\n",
      "Мы можем быть на 99% уверены, что среднее значение в генеральной совокупности принадлежит рассчитанному доверительному интервалу.\n"
     ]
    }
   ],
   "source": [
    "import numpy as np\n",
    "from scipy import stats\n",
    "\n",
    "p = 0.99\n",
    "mean = 8\n",
    "std = 4\n",
    "n = 16\n",
    "\n",
    "se = std/np.sqrt(n)\n",
    "alpha = (1-p)/2\n",
    "sigma = stats.norm().isf(alpha)\n",
    "сonfidence_interval = mean - sigma*se, mean + sigma*se\n",
    "print('[%.2f; %.2f]' % сonfidence_interval)\n",
    "print('Мы можем быть на 99% уверены, что среднее значение в генеральной \\\n",
    "совокупности принадлежит рассчитанному доверительному интервалу.')"
   ]
  },
  {
   "cell_type": "markdown",
   "id": "6c2444ea",
   "metadata": {},
   "source": [
    "## 3 задание"
   ]
  },
  {
   "cell_type": "markdown",
   "id": "e2281838",
   "metadata": {},
   "source": [
    "Так как результаты измерений представлены в шкале рангов, применяем непараметрические коэффициенты (Спирмена и Кендалла)\n"
   ]
  },
  {
   "cell_type": "code",
   "execution_count": 2,
   "id": "d9e448a4",
   "metadata": {},
   "outputs": [
    {
     "data": {
      "text/html": [
       "<div>\n",
       "<style scoped>\n",
       "    .dataframe tbody tr th:only-of-type {\n",
       "        vertical-align: middle;\n",
       "    }\n",
       "\n",
       "    .dataframe tbody tr th {\n",
       "        vertical-align: top;\n",
       "    }\n",
       "\n",
       "    .dataframe thead th {\n",
       "        text-align: right;\n",
       "    }\n",
       "</style>\n",
       "<table border=\"1\" class=\"dataframe\">\n",
       "  <thead>\n",
       "    <tr style=\"text-align: right;\">\n",
       "      <th></th>\n",
       "      <th>male</th>\n",
       "      <th>female</th>\n",
       "    </tr>\n",
       "  </thead>\n",
       "  <tbody>\n",
       "    <tr>\n",
       "      <th>male</th>\n",
       "      <td>1.000000</td>\n",
       "      <td>-0.648886</td>\n",
       "    </tr>\n",
       "    <tr>\n",
       "      <th>female</th>\n",
       "      <td>-0.648886</td>\n",
       "      <td>1.000000</td>\n",
       "    </tr>\n",
       "  </tbody>\n",
       "</table>\n",
       "</div>"
      ],
      "text/plain": [
       "            male    female\n",
       "male    1.000000 -0.648886\n",
       "female -0.648886  1.000000"
      ]
     },
     "execution_count": 2,
     "metadata": {},
     "output_type": "execute_result"
    }
   ],
   "source": [
    "import pandas as pd\n",
    "\n",
    "df = pd.DataFrame({'male' : [7, 8, 8, 5, 7], 'female' : [10, 5, 3, 8, 10]})\n",
    "df.corr(method='spearman')"
   ]
  },
  {
   "cell_type": "code",
   "execution_count": 3,
   "id": "811c1b0f",
   "metadata": {},
   "outputs": [
    {
     "data": {
      "text/html": [
       "<div>\n",
       "<style scoped>\n",
       "    .dataframe tbody tr th:only-of-type {\n",
       "        vertical-align: middle;\n",
       "    }\n",
       "\n",
       "    .dataframe tbody tr th {\n",
       "        vertical-align: top;\n",
       "    }\n",
       "\n",
       "    .dataframe thead th {\n",
       "        text-align: right;\n",
       "    }\n",
       "</style>\n",
       "<table border=\"1\" class=\"dataframe\">\n",
       "  <thead>\n",
       "    <tr style=\"text-align: right;\">\n",
       "      <th></th>\n",
       "      <th>male</th>\n",
       "      <th>female</th>\n",
       "    </tr>\n",
       "  </thead>\n",
       "  <tbody>\n",
       "    <tr>\n",
       "      <th>male</th>\n",
       "      <td>1.0</td>\n",
       "      <td>-0.6</td>\n",
       "    </tr>\n",
       "    <tr>\n",
       "      <th>female</th>\n",
       "      <td>-0.6</td>\n",
       "      <td>1.0</td>\n",
       "    </tr>\n",
       "  </tbody>\n",
       "</table>\n",
       "</div>"
      ],
      "text/plain": [
       "        male  female\n",
       "male     1.0    -0.6\n",
       "female  -0.6     1.0"
      ]
     },
     "execution_count": 3,
     "metadata": {},
     "output_type": "execute_result"
    }
   ],
   "source": [
    "df.corr(method='kendall')"
   ]
  },
  {
   "cell_type": "markdown",
   "id": "421a0202",
   "metadata": {},
   "source": [
    "Связь между оценками качеств партнеров у мужчин и женщин средняя, обратная по направлению (умеренной тесноты). Наверное, стоит проверить значимость коэффициента ранговой корреляции, но в задании не задан доверительный интервал. \n",
    "Пусть уровень значимости α = 0.05. Проверим нулевую гипотезу о равенстве нулю генерального коэффициента ранговой корреляции Кендалла и отдельно для Спирмена. Вычислила Ткр для каждой корреляции. Оба коэф. корреляции оказались меньше Ткритических => принимаем нулевую гипотезу: ранговая корреляционная связь между оценками незначимая."
   ]
  },
  {
   "cell_type": "markdown",
   "id": "5033d14a",
   "metadata": {},
   "source": [
    "# Программирование"
   ]
  },
  {
   "cell_type": "markdown",
   "id": "ec7605eb",
   "metadata": {},
   "source": [
    "## 1 задание"
   ]
  },
  {
   "cell_type": "markdown",
   "id": "5443c8d6",
   "metadata": {},
   "source": [
    "Если рассматривать только пары индексов, то решение:"
   ]
  },
  {
   "cell_type": "code",
   "execution_count": 4,
   "id": "6edfd964",
   "metadata": {},
   "outputs": [
    {
     "name": "stdout",
     "output_type": "stream",
     "text": [
      "nums =  [ 3 98 30 75 57 68 65  4 50 11  5 45 30 98 99 91 53 47 90]\n",
      "target =  76\n",
      "answer = [[6, 9]]\n"
     ]
    }
   ],
   "source": [
    "import random\n",
    "\n",
    "def sumIndex(nums, target):\n",
    "    a = []\n",
    "    for i in range(len(nums)):\n",
    "        for j in range(i+1, len(nums)):\n",
    "            if nums[i] + nums[j] == target:\n",
    "                a.append([i, j])\n",
    "    return a\n",
    "\n",
    "temp = random.randint(1, 100)\n",
    "nums = np.array([random.randint(0, 100) for _ in range(temp)])\n",
    "print(\"nums = \", nums)\n",
    "target = random.randint(0, 100)\n",
    "print(\"target = \", target)\n",
    "print(\"answer =\", sumIndex(nums, target))"
   ]
  },
  {
   "cell_type": "markdown",
   "id": "53e93366",
   "metadata": {},
   "source": [
    "Если можно суммировать больше двух значений массива, то задача значительно усложняется (решение, конечно, очень медленное, но лучше не смогла):"
   ]
  },
  {
   "cell_type": "code",
   "execution_count": 5,
   "id": "ffebcd80",
   "metadata": {},
   "outputs": [
    {
     "name": "stdout",
     "output_type": "stream",
     "text": [
      "answer = \n",
      "[0, 0, 4]\n",
      "[0, 1]\n",
      "[0, 4, 0]\n",
      "[1, 0]\n",
      "[4, 0, 0]\n"
     ]
    }
   ],
   "source": [
    "def sumIndex(nums, target, path = [], i = 0):\n",
    "    if target < 0:\n",
    "        return\n",
    "    if target == 0:\n",
    "        print(path)\n",
    "        return\n",
    "    for i in range(len(nums)):\n",
    "        sumIndex(nums, target-nums[i], path+[i], i+1) \n",
    "\n",
    "\n",
    "#temp = random.randint(1, 10)  \n",
    "#nums = np.array([random.randint(0, 100) for _ in range(temp)])\n",
    "#print(\"nums = \", nums)\n",
    "#target = random.randint(0, 100)\n",
    "#print(\"target = \", target)\n",
    "#print(\"answer =\")\n",
    "\n",
    "nums = [2, 5,23,20,3]\n",
    "target = 7\n",
    "path = []\n",
    "print('answer = ')\n",
    "sumIndex(nums,target)"
   ]
  },
  {
   "cell_type": "markdown",
   "id": "564c0bd6",
   "metadata": {},
   "source": [
    "## 2 задание"
   ]
  },
  {
   "cell_type": "markdown",
   "id": "d0d0e9d7",
   "metadata": {},
   "source": [
    "Мое неоптимальное решение:"
   ]
  },
  {
   "cell_type": "code",
   "execution_count": 6,
   "id": "24d7023b",
   "metadata": {},
   "outputs": [
    {
     "name": "stdout",
     "output_type": "stream",
     "text": [
      "nums =  [100   0  21  27  22  82  36  25  17  80  28  60   5  33  22  66  85  75\n",
      "  38  42  92  18   4  65  57  78  71  81  31  18  23  26  35  34  40  64\n",
      "  97  52  84  56 100  16  83  12  20  64  36  79  11  17  44  21  16  61\n",
      "  88  65  21   2  16  23  53  12  33  84  19  15  42  17   2  77  39  89\n",
      "  76  27]\n",
      "target =  100\n",
      "answer = [0, 1]\n"
     ]
    }
   ],
   "source": [
    "import random\n",
    "\n",
    "def sumIndex(nums, target):\n",
    "    for i in range(len(nums)):\n",
    "        for j in range(i+1, len(nums)):\n",
    "            if nums[i] + nums[j] == target and i != j:\n",
    "                return [i, j]\n",
    "\n",
    "temp = random.randint(1, 100)\n",
    "nums = np.array([random.randint(0, 100) for _ in range(temp)])\n",
    "print(\"nums = \", nums)\n",
    "target = random.randint(0, 100)\n",
    "print(\"target = \", target)\n",
    "print(\"answer =\", sumIndex(nums, target))"
   ]
  },
  {
   "cell_type": "markdown",
   "id": "80258452",
   "metadata": {},
   "source": [
    "Оптимальное нагулила и разобрала, но сама не написала:"
   ]
  },
  {
   "cell_type": "code",
   "execution_count": 7,
   "id": "b284e421",
   "metadata": {},
   "outputs": [
    {
     "name": "stdout",
     "output_type": "stream",
     "text": [
      "nums =  [63 65 44 98 85 90 29 96 51 44 86 27 68 65 13 52 42 40 17 35 42 51  2 75\n",
      " 53 79 72 99 50 42 98 83 47 61 11 15 31 54 94 50 52 42 66 68 57 80 13 25\n",
      " 96 41 65 45 51 26 73 92 30 82 15 80 60 76 52 10 74 90  1 82]\n",
      "target =  2\n",
      "answer = None\n"
     ]
    }
   ],
   "source": [
    "def twoSum(nums, target):\n",
    "    d = {}\n",
    "    for i in range(len(nums)):\n",
    "        d[nums[i]] = i\n",
    "    for i in range(len(nums)):\n",
    "        complement = target - nums[i]\n",
    "        if complement in d and d[complement] != i:\n",
    "            return [i, d[complement]]\n",
    "            \n",
    "temp = random.randint(1, 100)\n",
    "nums = np.array([random.randint(0, 100) for _ in range(temp)])\n",
    "print(\"nums = \", nums)\n",
    "target = random.randint(0, 100)\n",
    "print(\"target = \", target)\n",
    "print(\"answer =\", twoSum(nums, target))"
   ]
  },
  {
   "cell_type": "code",
   "execution_count": null,
   "id": "1ce08ef7",
   "metadata": {},
   "outputs": [],
   "source": []
  }
 ],
 "metadata": {
  "kernelspec": {
   "display_name": "Python 3",
   "language": "python",
   "name": "python3"
  },
  "language_info": {
   "codemirror_mode": {
    "name": "ipython",
    "version": 3
   },
   "file_extension": ".py",
   "mimetype": "text/x-python",
   "name": "python",
   "nbconvert_exporter": "python",
   "pygments_lexer": "ipython3",
   "version": "3.8.8"
  }
 },
 "nbformat": 4,
 "nbformat_minor": 5
}
